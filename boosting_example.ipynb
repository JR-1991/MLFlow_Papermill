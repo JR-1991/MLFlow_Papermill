{
 "cells": [
  {
   "cell_type": "code",
   "execution_count": 28,
   "metadata": {
    "jupyter": {
     "source_hidden": true
    }
   },
   "outputs": [],
   "source": [
    "from sklearn import datasets\n",
    "from sklearn.model_selection import cross_val_score, train_test_split\n",
    "from sklearn.ensemble import GradientBoostingClassifier\n",
    "from sklearn.metrics import average_precision_score, f1_score, plot_roc_curve, roc_auc_score\n",
    "\n",
    "import matplotlib.pyplot as plt\n",
    "import mlflow\n",
    "import pickle"
   ]
  },
  {
   "cell_type": "code",
   "execution_count": 10,
   "metadata": {},
   "outputs": [],
   "source": [
    "x, y = datasets.make_classification(n_samples = 500, n_features=10, class_sep=0.75, random_state=42)\n",
    "x_train, x_test, y_train, y_test = train_test_split(x,y, test_size=0.1, random_state=42, stratify=y)"
   ]
  },
  {
   "cell_type": "markdown",
   "metadata": {},
   "source": [
    "### Parameter cell\n",
    "\n",
    "- Parameters are set within a cell\n",
    "- Cell is tagged with 'parameters'\n",
    "- Given parameters are then defined via a dictionary in another notebook"
   ]
  },
  {
   "cell_type": "code",
   "execution_count": 1,
   "metadata": {
    "tags": [
     "parameters"
    ]
   },
   "outputs": [],
   "source": [
    "n_estimators = 500\n",
    "max_depth = 2\n",
    "experiment_id = '1'\n",
    "lr = 1.0"
   ]
  },
  {
   "cell_type": "markdown",
   "metadata": {},
   "source": [
    "### MLFlow tracking\n",
    "\n",
    "- Tracking is initialized by mlflow.start_run with respective experiment ID\n",
    "- Metrics/Parameters can be logged via key value relationship\n",
    "- Artifacts, which are arbitrary files, are given via their local path\n",
    "- Those are assigned to each run"
   ]
  },
  {
   "cell_type": "code",
   "execution_count": 22,
   "metadata": {},
   "outputs": [],
   "source": [
    "with mlflow.start_run(experiment_id=experiment_id) as run:\n",
    "    \n",
    "    gb = GradientBoostingClassifier(n_estimators=n_estimators, max_depth=max_depth, learning_rate=lr)\n",
    "    \n",
    "    mlflow.log_param( 'Learning Rate', lr )\n",
    "    mlflow.log_param( 'n_estimators', n_estimators )\n",
    "    mlflow.log_param( 'max_depth', max_depth )\n",
    "    \n",
    "    cv = cross_val_score( gb, X=x_train, y=y_train, cv=5, n_jobs=-1, verbose=2 )\n",
    "    gb.fit(x_train, y_train)\n",
    "\n",
    "    f1 = f1_score( y_test, gb.predict(x_test) )\n",
    "    mlflow.log_metric( 'F1-Score', f1 )\n",
    "    \n",
    "    roc_auc = roc_auc_score( y_test, gb.predict(x_test) )\n",
    "    mlflow.log_metric( 'ROC-AUC Score', roc_auc )\n",
    "    \n",
    "    average_cv = cv.mean()\n",
    "    mlflow.log_metric( 'Average CV score', average_cv )\n",
    "    \n",
    "    plot_path = 'artifacts_dir/plots/roc_auc_curve_{}_{}_{}.png'.format(n_estimators, max_depth, lr)\n",
    "    plot_roc_curve( gb, x_test, y_test )\n",
    "    plt.savefig(plot_path)\n",
    "    mlflow.log_artifact(plot_path)\n",
    "    \n",
    "    model_path = 'artifacts_dir/models/model_{}_{}_{}.pckl'.format(n_estimators, max_depth, lr)\n",
    "    pickle.dump(gb, open( model_path, 'bw'))\n",
    "    mlflow.log_artifact( model_path )\n",
    "    \n",
    "    nb_path = 'artifacts_dir/notebooks/boosting_example_{}_{}_{}.ipynb'.format(n_estimators, max_depth, lr)\n",
    "    mlflow.log_artifact( nb_path )"
   ]
  }
 ],
 "metadata": {
  "kernelspec": {
   "display_name": "Python 3",
   "language": "python",
   "name": "python3"
  },
  "language_info": {
   "codemirror_mode": {
    "name": "ipython",
    "version": 3
   },
   "file_extension": ".py",
   "mimetype": "text/x-python",
   "name": "python",
   "nbconvert_exporter": "python",
   "pygments_lexer": "ipython3",
   "version": "3.8.0"
  }
 },
 "nbformat": 4,
 "nbformat_minor": 4
}
