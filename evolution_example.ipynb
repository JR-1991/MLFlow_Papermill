{
 "cells": [
  {
   "cell_type": "code",
   "execution_count": 120,
   "metadata": {
    "jupyter": {
     "source_hidden": true
    }
   },
   "outputs": [],
   "source": [
    "from scipy.integrate import odeint\n",
    "\n",
    "import numpy as np\n",
    "\n",
    "import matplotlib.pyplot as plt\n",
    "import seaborn as sns\n",
    "import mlflow\n",
    "import pickle"
   ]
  },
  {
   "cell_type": "markdown",
   "metadata": {},
   "source": [
    "### Parameter cell\n",
    "\n",
    "- Parameters are set within a cell\n",
    "- Cell is tagged with 'parameters'\n",
    "- Given parameters are then defined via a dictionary in another notebook"
   ]
  },
  {
   "cell_type": "code",
   "execution_count": 121,
   "metadata": {
    "tags": [
     "parameters"
    ]
   },
   "outputs": [],
   "source": [
    "experiment_id = '2'\n",
    "delta = 0.15\n",
    "omega = 5.1"
   ]
  },
  {
   "cell_type": "markdown",
   "metadata": {},
   "source": [
    "### MLFlow tracking\n",
    "\n",
    "- Tracking is initialized by mlflow.start_run with respective experiment ID\n",
    "- Metrics/Parameters can be logged via key value relationship\n",
    "- Artifacts, which are arbitrary files, are given via their local path\n",
    "- Those are assigned to each run\n",
    "\n",
    "___________\n",
    "\n",
    "*Metrics can also be tracked dynamically e.g. step-wise and visualized in the UI*\n",
    "___________"
   ]
  },
  {
   "cell_type": "code",
   "execution_count": null,
   "metadata": {},
   "outputs": [],
   "source": [
    "with mlflow.start_run(experiment_id=experiment_id) as run:\n",
    "    \n",
    "    x0 = 20.0\n",
    "    v0 = 0.0\n",
    "    amp = 5.0\n",
    "\n",
    "    def dgl( U, x ):\n",
    "        return [ U[1], -2*delta*U[1] - (omega**2)*U[0] + amp*np.cos(2.5*omega*x + 0.5) ]\n",
    "\n",
    "    xs = np.linspace(0,20,50).tolist()\n",
    "    y = odeint( dgl, [x0, v0], xs )[:,0]\n",
    "\n",
    "\n",
    "    for i, (xi,yi) in enumerate(zip(xs, y)):\n",
    "        \n",
    "        mlflow.log_metric( 'Displacement', yi, step=i )\n",
    "        mlflow.log_metric( 'Time', xi, step=i )\n",
    "    \n",
    "    sim_data_path = 'artifacts_dir/sim_data/osc_data_{}_{}.npy'.format(omega, delta)\n",
    "    np.save( sim_data_path, np.array( [xs, y] ) )\n",
    "    mlflow.log_artifact(sim_data_path)\n",
    "    \n",
    "    plot_path = 'artifacts_dir/plots/osc_data_{}_{}.png'.format(omega, delta)\n",
    "    plt.plot(xs, y)\n",
    "    plt.savefig(plot_path)\n",
    "    mlflow.log_artifact(plot_path)"
   ]
  }
 ],
 "metadata": {
  "kernelspec": {
   "display_name": "Python 3",
   "language": "python",
   "name": "python3"
  },
  "language_info": {
   "codemirror_mode": {
    "name": "ipython",
    "version": 3
   },
   "file_extension": ".py",
   "mimetype": "text/x-python",
   "name": "python",
   "nbconvert_exporter": "python",
   "pygments_lexer": "ipython3",
   "version": "3.8.0"
  }
 },
 "nbformat": 4,
 "nbformat_minor": 4
}
