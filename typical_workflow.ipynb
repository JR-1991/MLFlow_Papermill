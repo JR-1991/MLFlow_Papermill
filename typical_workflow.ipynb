{
 "cells": [
  {
   "cell_type": "code",
   "execution_count": 1,
   "metadata": {
    "jupyter": {
     "source_hidden": true
    }
   },
   "outputs": [],
   "source": [
    "from sklearn import datasets\n",
    "from sklearn.model_selection import cross_val_score, train_test_split\n",
    "from sklearn.ensemble import GradientBoostingClassifier\n",
    "from sklearn.metrics import average_precision_score, f1_score, plot_roc_curve, roc_auc_score\n",
    "\n",
    "import matplotlib.pyplot as plt\n",
    "import mlflow\n",
    "import pickle"
   ]
  },
  {
   "cell_type": "markdown",
   "metadata": {},
   "source": [
    "## The typical workflow\n",
    "\n",
    "### 1. Setting up a workflow with data and arbitrary algorithm"
   ]
  },
  {
   "cell_type": "code",
   "execution_count": 2,
   "metadata": {},
   "outputs": [],
   "source": [
    "x, y = datasets.make_classification(n_samples = 500, n_features=10, class_sep=0.75, random_state=42)\n",
    "x_train, x_test, y_train, y_test = train_test_split(x,y, test_size=0.1, random_state=42, stratify=y)"
   ]
  },
  {
   "cell_type": "markdown",
   "metadata": {},
   "source": [
    "### 2. Pre-defining parameters for modeling"
   ]
  },
  {
   "cell_type": "code",
   "execution_count": 1,
   "metadata": {
    "tags": [
     "parameters"
    ]
   },
   "outputs": [],
   "source": [
    "n_estimators = 500\n",
    "max_depth = 2\n",
    "lr = 1.0"
   ]
  },
  {
   "cell_type": "markdown",
   "metadata": {},
   "source": [
    "### 3. Run algorithm plus storage"
   ]
  },
  {
   "cell_type": "code",
   "execution_count": 22,
   "metadata": {},
   "outputs": [],
   "source": [
    "# Fit model via Cross-Validation\n",
    "gb = GradientBoostingClassifier(n_estimators=n_estimators, max_depth=max_depth, learning_rate=lr)\n",
    "cv = cross_val_score( gb, X=x_train, y=y_train, cv=5, n_jobs=-1, verbose=2 )\n",
    "gb.fit(x_train, y_train)\n",
    "\n",
    "# Generate metrics for evaluation\n",
    "f1 = f1_score( y_test, gb.predict(x_test) )\n",
    "roc_auc = roc_auc_score( y_test, gb.predict(x_test) )\n",
    "average_cv = cv.mean()\n",
    "\n",
    "# Save metrics in an arbitraty file\n",
    "with open( 'Metrics_Boosting_{}_{}_{}.txt'.format(n_estimators, max_depth, lr), 'w' ) as f:\n",
    "    f.write( 'F1 Score: {}\\n'.format(f1) )\n",
    "    f.write( 'ROC AUC Score: {}\\n'.format(roc_auc) )\n",
    "    f.write( 'Average CV Precision: {}\\n'.format(average_cv) )\n",
    "\n",
    "# Save some plots\n",
    "plot_path = 'artifacts_dir/plots/roc_auc_curve_{}_{}_{}.png'.format(n_estimators, max_depth, lr)\n",
    "plot_roc_curve( gb, x_test, y_test )\n",
    "plt.savefig(plot_path)\n",
    "\n",
    "# Save the model\n",
    "model_path = 'artifacts_dir/models/model_{}_{}_{}.pckl'.format(n_estimators, max_depth, lr)\n",
    "pickle.dump(gb, open( model_path, 'bw'))"
   ]
  },
  {
   "cell_type": "markdown",
   "metadata": {},
   "source": [
    "### 4. Revisit results and optimize model \n",
    "\n",
    "- Change notebook or algorithm based on the results"
   ]
  },
  {
   "cell_type": "markdown",
   "metadata": {},
   "source": [
    "_______________________"
   ]
  },
  {
   "cell_type": "markdown",
   "metadata": {},
   "source": [
    "### What is so problematic about such a workflow?\n",
    "\n",
    "- Losing overview is pretty easy to achieve\n",
    "- Sorting of results takes another script\n",
    "- Nothing is standardized, everyone is doing it in another way\n",
    "- Re-optimization of script loses previous versions (if Git is not used)\n",
    "\n",
    "### What if we could...\n",
    "\n",
    "- Define only one notebook and run it several times with different parameters?\n",
    "- Save each individual notebook in order to revisit it later on?\n",
    "- Keep track of each run and visualize results as well as sort those?\n",
    "- Store individual files reffered to each run?\n",
    "\n",
    "### Thanks to the IT gods, there are solutions!\n",
    "\n",
    "1. Papermill - Automated run of notebooks with varying parameters/functions\n",
    "2. MLFlow - Tracking, organising and packaging of Machine Learning (or whatever) projects."
   ]
  },
  {
   "cell_type": "markdown",
   "metadata": {},
   "source": [
    "-----------"
   ]
  }
 ],
 "metadata": {
  "kernelspec": {
   "display_name": "Python 3",
   "language": "python",
   "name": "python3"
  },
  "language_info": {
   "codemirror_mode": {
    "name": "ipython",
    "version": 3
   },
   "file_extension": ".py",
   "mimetype": "text/x-python",
   "name": "python",
   "nbconvert_exporter": "python",
   "pygments_lexer": "ipython3",
   "version": "3.8.0"
  }
 },
 "nbformat": 4,
 "nbformat_minor": 4
}
